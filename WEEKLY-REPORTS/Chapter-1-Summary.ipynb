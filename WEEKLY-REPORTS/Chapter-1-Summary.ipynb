{
 "cells": [
  {
   "cell_type": "markdown",
   "metadata": {},
   "source": [
    "# Machine Learning\n",
    "Is an application of artificial intelligence (AI) that provides systems the ability to automatically learn and improve from experience without being explicitly programmed. Machine learning focuses on the development of computer programs that can access data and use it learn for themselves\n",
    "\n",
    "### Why machine learning?\n",
    "- Has ability to work with large collection of data to provide accurate solutions \n",
    "- Unlike normal programming, ML gives ability to adapt to any changes\n",
    "- Higher performance than human beings \n",
    "\n",
    "## Types of Machine Learning\n",
    "- Supervised learning - Learn model from inputs and outputs and used to predict new inputs \n",
    "- Unsupervised learning - Learn the model from inputs without labels and cluster them.  \n",
    "- Reinforcement learning - learn what to do in a given situation based on rewards or penalties\n",
    "\n",
    "## Problems ML solve and data used in solving\n",
    "Problems that automate decision-making processes by generalizing from known examples are solved by supervised learning, unsupervised learning solve problems that whose inputs need to be clustered.\n",
    "\n",
    "Data to be used depend on the type of ML, since each ML has its algorithm for different types of data\n",
    "\n",
    "##  Application of Machine Learning \n",
    "- Computer vision \n",
    "- Speech recognition \n",
    "- Medical diagnosis \n",
    "- Search Engines \n",
    "\n",
    "## Why python used for machine learning?\n",
    "- Used by large group of community \n",
    "- Most of big organizations e.g. Microsoft design ML libraries using python language \n",
    "- Most of libraries needed in ML are written in Python Language\n",
    "\n",
    "## Essential Python libraries used in Machine learning \n",
    "- Scikit-learn -open source project that consists of the algorithms used for ML.\n",
    "- Pandas - used for data wrangling and analysis \n",
    "- NumPy - contains functionality for multidimensional array and high-level mathematical functions like algebra and Fourier transform.\n",
    "- Matplotlib -used for data visualization, it contains graph plotting functionality \n",
    "\n",
    "## Differences between Python 2 and Python 3\n",
    "#### Python 2     \n",
    "1. It is still entrenched in the software in certain companies  \n",
    "2. Strings are stored as ASCII by default \n",
    "3. Rounds down to the nearest whole number e.g. 5/2=2 \n",
    "4. Print statement has no () brackets  \n",
    " \n",
    "\n",
    "#### Python 3 \n",
    "1. It will take over Python 2 by 2020\n",
    "2. Text strings are Unicode by default\n",
    "3. Brings the expected results once division is done.  5/2= 2.5\n",
    "4. Print statement has () brackets\n"
   ]
  }
 ],
 "metadata": {
  "kernelspec": {
   "display_name": "Python 3",
   "language": "python",
   "name": "python3"
  },
  "language_info": {
   "codemirror_mode": {
    "name": "ipython",
    "version": 3
   },
   "file_extension": ".py",
   "mimetype": "text/x-python",
   "name": "python",
   "nbconvert_exporter": "python",
   "pygments_lexer": "ipython3",
   "version": "3.6.4"
  }
 },
 "nbformat": 4,
 "nbformat_minor": 2
}
